{
 "cells": [
  {
   "cell_type": "code",
   "execution_count": 1,
   "metadata": {},
   "outputs": [
    {
     "name": "stdout",
     "output_type": "stream",
     "text": [
      "watson\n"
     ]
    }
   ],
   "source": [
    "mylist=[\"ana\",\"jack\",\"smith\",\"watson\",\"jeff\",\"alex\"]\n",
    "print(mylist[3])"
   ]
  },
  {
   "cell_type": "code",
   "execution_count": 12,
   "metadata": {},
   "outputs": [
    {
     "name": "stdout",
     "output_type": "stream",
     "text": [
      "jeff\n",
      "jeff\n",
      "jeff\n",
      "jeff\n",
      "jeff\n",
      "jeff\n"
     ]
    }
   ],
   "source": [
    "mylist=[\"ana\",\"jack\",\"smith\",\"watson\",\"jeff\",\"alex\"]\n",
    "for i in range(len(mylist)):\n",
    "    print(mylist[4])"
   ]
  },
  {
   "cell_type": "code",
   "execution_count": 20,
   "metadata": {},
   "outputs": [
    {
     "name": "stdout",
     "output_type": "stream",
     "text": [
      "alex\n"
     ]
    }
   ],
   "source": [
    "import random \n",
    "\n",
    "mylist=[\"ana\",\"jack\",\"smith\",\"watson\",\"jeff\",\"alex\"]\n",
    "print(random.choice(mylist))\n"
   ]
  },
  {
   "cell_type": "code",
   "execution_count": 22,
   "metadata": {},
   "outputs": [
    {
     "name": "stdout",
     "output_type": "stream",
     "text": [
      "alex\n",
      "jeff\n",
      "watson\n",
      "smith\n",
      "jack\n",
      "ana\n"
     ]
    }
   ],
   "source": [
    "mylist=[\"ana\",\"jack\",\"smith\",\"watson\",\"jeff\",\"alex\"]\n",
    "\n",
    "for i in reversed(mylist):\n",
    "    print (i)"
   ]
  },
  {
   "cell_type": "code",
   "execution_count": 3,
   "metadata": {},
   "outputs": [
    {
     "name": "stdout",
     "output_type": "stream",
     "text": [
      "a\n",
      "k\n",
      "h\n",
      "n\n",
      "f\n",
      "x\n"
     ]
    }
   ],
   "source": [
    "mylist=[\"ana\",\"jack\",\"smith\",\"watson\",\"jeff\",\"alex\"]\n",
    "for i in range(len(mylist)):\n",
    "    print(mylist[i][-1])"
   ]
  },
  {
   "cell_type": "code",
   "execution_count": 61,
   "metadata": {},
   "outputs": [
    {
     "name": "stdout",
     "output_type": "stream",
     "text": [
      "a\n",
      "j\n",
      "s\n",
      "w\n",
      "f\n",
      "e\n"
     ]
    }
   ],
   "source": [
    "from random import choice \n",
    "\n",
    "mylist=[\"ana\",\"jack\",\"smith\",\"watson\",\"jeff\",\"alex\"]\n",
    "for i in mylist:\n",
    "    print(choice(i))"
   ]
  },
  {
   "cell_type": "code",
   "execution_count": 13,
   "metadata": {},
   "outputs": [
    {
     "name": "stdout",
     "output_type": "stream",
     "text": [
      "[16, 13, 12, 15, 14, 12, 11, 20, 5, 12, 19, 12, 12, 17, 12, 12]\n"
     ]
    }
   ],
   "source": [
    "temperature = [16,13,12,15,14,12,11,20,12,19,12,12,17,12,12]\n",
    "temperature.insert(8, 5)\n",
    "print(temperature)"
   ]
  },
  {
   "cell_type": "code",
   "execution_count": 14,
   "metadata": {},
   "outputs": [
    {
     "name": "stdout",
     "output_type": "stream",
     "text": [
      "[16, 13, 12, 15, 14, 12, 11, 20, 12, 19, 12, 12, 17, 12, 12, 7, 7, 7]\n"
     ]
    }
   ],
   "source": [
    "temperature = [16,13,12,15,14,12,11,20,12,19,12,12,17,12,12]\n",
    "temperature.insert(15, 7)\n",
    "temperature.insert(15, 7)\n",
    "temperature.insert(15, 7)\n",
    "print(temperature)"
   ]
  },
  {
   "cell_type": "code",
   "execution_count": 20,
   "metadata": {},
   "outputs": [
    {
     "name": "stdout",
     "output_type": "stream",
     "text": [
      "[16, 13, 12, 15, 14, 12, 20, 12, 19, 12, 12, 17, 12, 12]\n"
     ]
    }
   ],
   "source": [
    "temperature = [16,13,12,15,14,12,11,20,12,19,12,12,17,12,12]\n",
    "temperature.remove(11)\n",
    "print(temperature)"
   ]
  },
  {
   "cell_type": "code",
   "execution_count": 23,
   "metadata": {},
   "outputs": [
    {
     "name": "stdout",
     "output_type": "stream",
     "text": [
      "[17, 13, 12, 15, 14, 12, 11, 20, 12, 19, 12, 12, 17, 12, 12]\n"
     ]
    }
   ],
   "source": [
    "temperature = [16,13,12,15,14,12,11,20,12,19,12,12,17,12,12]\n",
    "temperature[0]=17\n",
    "print(temperature)"
   ]
  },
  {
   "cell_type": "code",
   "execution_count": 1,
   "metadata": {},
   "outputs": [
    {
     "name": "stdout",
     "output_type": "stream",
     "text": [
      "[16, 13, 15, 14, 11, 20, 19, 17, 12]\n"
     ]
    }
   ],
   "source": [
    "temperature = [16,13,12,15,14,12,11,20,12,19,12,12,17,12,12]\n",
    "temperature.remove(12)\n",
    "temperature.remove(12)\n",
    "temperature.remove(12)\n",
    "temperature.remove(12)\n",
    "temperature.remove(12)\n",
    "temperature.remove(12)\n",
    "print(temperature)"
   ]
  },
  {
   "cell_type": "markdown",
   "metadata": {},
   "source": [
    "# STRING EXERCISE\n"
   ]
  },
  {
   "cell_type": "code",
   "execution_count": 25,
   "metadata": {},
   "outputs": [
    {
     "name": "stdout",
     "output_type": "stream",
     "text": [
      "h\n"
     ]
    }
   ],
   "source": [
    "import random \n",
    "import string\n",
    "string.ascii_letters\n",
    "\n",
    "randomLetter = random.choice(string.ascii_letters)\n",
    "\n",
    "print(random.choice(string.ascii_letters))"
   ]
  },
  {
   "cell_type": "code",
   "execution_count": 172,
   "metadata": {},
   "outputs": [
    {
     "name": "stdout",
     "output_type": "stream",
     "text": [
      "F\n"
     ]
    }
   ],
   "source": [
    "total = 0\n",
    "\n",
    "for letter in \"PSEUDOPSEUDOHYPOPARATHYROIDISM\":\n",
    "    if letter == randomLetter:\n",
    "        total += 1\n",
    "print(randomLetter)"
   ]
  },
  {
   "cell_type": "code",
   "execution_count": null,
   "metadata": {},
   "outputs": [],
   "source": []
  }
 ],
 "metadata": {
  "kernelspec": {
   "display_name": "Python 3",
   "language": "python",
   "name": "python3"
  },
  "language_info": {
   "codemirror_mode": {
    "name": "ipython",
    "version": 3
   },
   "file_extension": ".py",
   "mimetype": "text/x-python",
   "name": "python",
   "nbconvert_exporter": "python",
   "pygments_lexer": "ipython3",
   "version": "3.5.2"
  }
 },
 "nbformat": 4,
 "nbformat_minor": 2
}
